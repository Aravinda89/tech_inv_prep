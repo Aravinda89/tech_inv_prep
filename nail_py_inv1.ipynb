{
  "nbformat": 4,
  "nbformat_minor": 0,
  "metadata": {
    "colab": {
      "name": "nail_py_inv1.ipynb",
      "provenance": [],
      "collapsed_sections": [],
      "authorship_tag": "ABX9TyNYB8c7pUaF+WM1QUejHt9S",
      "include_colab_link": true
    },
    "kernelspec": {
      "name": "python3",
      "display_name": "Python 3"
    },
    "language_info": {
      "name": "python"
    }
  },
  "cells": [
    {
      "cell_type": "markdown",
      "metadata": {
        "id": "view-in-github",
        "colab_type": "text"
      },
      "source": [
        "<a href=\"https://colab.research.google.com/github/Aravinda89/tech_inv_prep/blob/main/nail_py_inv1.ipynb\" target=\"_parent\"><img src=\"https://colab.research.google.com/assets/colab-badge.svg\" alt=\"Open In Colab\"/></a>"
      ]
    },
    {
      "cell_type": "code",
      "metadata": {
        "id": "J6_3tUZecXYX",
        "colab": {
          "base_uri": "https://localhost:8080/"
        },
        "outputId": "98934dce-6a1f-4b42-e010-df683920f7f8"
      },
      "source": [
        "import time\n",
        "\n",
        "#1.  tuple\n",
        "tuple1 = (6,2,1,'A','B','A')\n",
        "tuple1"
      ],
      "execution_count": 15,
      "outputs": [
        {
          "output_type": "execute_result",
          "data": {
            "text/plain": [
              "(6, 2, 1, 'A', 'B', 'A')"
            ]
          },
          "metadata": {},
          "execution_count": 15
        }
      ]
    },
    {
      "cell_type": "code",
      "metadata": {
        "colab": {
          "base_uri": "https://localhost:8080/"
        },
        "id": "XbHAQNvPgSfr",
        "outputId": "b634e191-de35-4ec0-e28d-365b2f8bef47"
      },
      "source": [
        "start = time.time()\n",
        "print(tuple1[0])\n",
        "end = time.time()\n",
        "\n",
        "print(end-start)"
      ],
      "execution_count": 10,
      "outputs": [
        {
          "output_type": "stream",
          "name": "stdout",
          "text": [
            "5\n",
            "0.0017104148864746094\n"
          ]
        }
      ]
    },
    {
      "cell_type": "code",
      "metadata": {
        "colab": {
          "base_uri": "https://localhost:8080/"
        },
        "id": "2tGmjppzhCId",
        "outputId": "9a491962-1106-4eb5-99df-339014f09159"
      },
      "source": [
        "len(tuple1)"
      ],
      "execution_count": 9,
      "outputs": [
        {
          "output_type": "execute_result",
          "data": {
            "text/plain": [
              "5"
            ]
          },
          "metadata": {},
          "execution_count": 9
        }
      ]
    },
    {
      "cell_type": "code",
      "metadata": {
        "colab": {
          "base_uri": "https://localhost:8080/"
        },
        "id": "V_bvLi3xhWPc",
        "outputId": "ff793924-cade-4845-c907-6d4b01241ed3"
      },
      "source": [
        "tuple1.count('A')"
      ],
      "execution_count": 11,
      "outputs": [
        {
          "output_type": "execute_result",
          "data": {
            "text/plain": [
              "2"
            ]
          },
          "metadata": {},
          "execution_count": 11
        }
      ]
    },
    {
      "cell_type": "code",
      "metadata": {
        "colab": {
          "base_uri": "https://localhost:8080/"
        },
        "id": "e7IAOH8Zir8z",
        "outputId": "3b23576a-14b5-4371-8837-a78d999f74df"
      },
      "source": [
        "tuple1.index('B')"
      ],
      "execution_count": 13,
      "outputs": [
        {
          "output_type": "execute_result",
          "data": {
            "text/plain": [
              "3"
            ]
          },
          "metadata": {},
          "execution_count": 13
        }
      ]
    },
    {
      "cell_type": "code",
      "metadata": {
        "id": "n-coEEltj51G"
      },
      "source": [
        ""
      ],
      "execution_count": null,
      "outputs": []
    },
    {
      "cell_type": "code",
      "metadata": {
        "id": "LVpOOI3biuPi"
      },
      "source": [
        "# 2.List\n",
        "list1 = [6,4,5,1,2]"
      ],
      "execution_count": 17,
      "outputs": []
    },
    {
      "cell_type": "code",
      "metadata": {
        "id": "lylt4ZUKjKiI"
      },
      "source": [
        "list1.append(10)"
      ],
      "execution_count": 18,
      "outputs": []
    },
    {
      "cell_type": "code",
      "metadata": {
        "colab": {
          "base_uri": "https://localhost:8080/"
        },
        "id": "J33Qjr9ljUdm",
        "outputId": "5cb32a7c-a9a6-449d-a20c-b17329dd7b17"
      },
      "source": [
        "list1"
      ],
      "execution_count": 20,
      "outputs": [
        {
          "output_type": "execute_result",
          "data": {
            "text/plain": [
              "[6, 4, 5, 1, 2, 10]"
            ]
          },
          "metadata": {},
          "execution_count": 20
        }
      ]
    },
    {
      "cell_type": "code",
      "metadata": {
        "id": "Qwlk4tvkjVLF"
      },
      "source": [
        "list1.insert(0,100)"
      ],
      "execution_count": 21,
      "outputs": []
    },
    {
      "cell_type": "code",
      "metadata": {
        "colab": {
          "base_uri": "https://localhost:8080/"
        },
        "id": "p6LGkCJMjcJV",
        "outputId": "54e752e3-7f7d-4247-d31f-206ea640a732"
      },
      "source": [
        "list1"
      ],
      "execution_count": 22,
      "outputs": [
        {
          "output_type": "execute_result",
          "data": {
            "text/plain": [
              "[100, 6, 4, 5, 1, 2, 10]"
            ]
          },
          "metadata": {},
          "execution_count": 22
        }
      ]
    },
    {
      "cell_type": "code",
      "metadata": {
        "colab": {
          "base_uri": "https://localhost:8080/"
        },
        "id": "Y6Y-W13JjdV1",
        "outputId": "600885d4-8dd7-4e71-ed50-2e0bd3ae2811"
      },
      "source": [
        "itm1 = list1.pop()\n",
        "itm1"
      ],
      "execution_count": 23,
      "outputs": [
        {
          "output_type": "execute_result",
          "data": {
            "text/plain": [
              "10"
            ]
          },
          "metadata": {},
          "execution_count": 23
        }
      ]
    },
    {
      "cell_type": "code",
      "metadata": {
        "colab": {
          "base_uri": "https://localhost:8080/"
        },
        "id": "-tGkSFXejjNk",
        "outputId": "6858b5f2-821d-4732-aa10-c6e34a914b7a"
      },
      "source": [
        "list1"
      ],
      "execution_count": 24,
      "outputs": [
        {
          "output_type": "execute_result",
          "data": {
            "text/plain": [
              "[100, 6, 4, 5, 1, 2]"
            ]
          },
          "metadata": {},
          "execution_count": 24
        }
      ]
    },
    {
      "cell_type": "code",
      "metadata": {
        "id": "mRJL4jCGjmKL"
      },
      "source": [
        "list1.remove(5)"
      ],
      "execution_count": 25,
      "outputs": []
    },
    {
      "cell_type": "code",
      "metadata": {
        "colab": {
          "base_uri": "https://localhost:8080/"
        },
        "id": "xZ6mXHq9jvdP",
        "outputId": "0087cfff-9767-449d-c38c-c0a5155762ec"
      },
      "source": [
        "list1"
      ],
      "execution_count": 26,
      "outputs": [
        {
          "output_type": "execute_result",
          "data": {
            "text/plain": [
              "[100, 6, 4, 1, 2]"
            ]
          },
          "metadata": {},
          "execution_count": 26
        }
      ]
    },
    {
      "cell_type": "code",
      "metadata": {
        "id": "GTT0quVOjv-v"
      },
      "source": [
        "list1.reverse()"
      ],
      "execution_count": 27,
      "outputs": []
    },
    {
      "cell_type": "code",
      "metadata": {
        "colab": {
          "base_uri": "https://localhost:8080/"
        },
        "id": "eYhS1HMMjzb-",
        "outputId": "30125e3b-fc2f-4b5b-b1e4-96d9f5931597"
      },
      "source": [
        "list1"
      ],
      "execution_count": 28,
      "outputs": [
        {
          "output_type": "execute_result",
          "data": {
            "text/plain": [
              "[2, 1, 4, 6, 100]"
            ]
          },
          "metadata": {},
          "execution_count": 28
        }
      ]
    },
    {
      "cell_type": "code",
      "metadata": {
        "id": "KYoTcni1j0wm"
      },
      "source": [
        "list1.sort()"
      ],
      "execution_count": 29,
      "outputs": []
    },
    {
      "cell_type": "code",
      "metadata": {
        "colab": {
          "base_uri": "https://localhost:8080/"
        },
        "id": "RnQQNknWj24m",
        "outputId": "dfb86a45-fc91-40ca-b631-6452e120e3f7"
      },
      "source": [
        "list1"
      ],
      "execution_count": 30,
      "outputs": [
        {
          "output_type": "execute_result",
          "data": {
            "text/plain": [
              "[1, 2, 4, 6, 100]"
            ]
          },
          "metadata": {},
          "execution_count": 30
        }
      ]
    },
    {
      "cell_type": "code",
      "metadata": {
        "colab": {
          "base_uri": "https://localhost:8080/"
        },
        "id": "uE6nW9xlj3p2",
        "outputId": "6c1d6ea4-8766-4302-97f4-e026aebb29a9"
      },
      "source": [
        "# dict\n",
        "\n",
        "dict1 = {'one':1,'two':2,'three':3}\n",
        "dict1"
      ],
      "execution_count": 32,
      "outputs": [
        {
          "output_type": "execute_result",
          "data": {
            "text/plain": [
              "{'one': 1, 'three': 3, 'two': 2}"
            ]
          },
          "metadata": {},
          "execution_count": 32
        }
      ]
    },
    {
      "cell_type": "code",
      "metadata": {
        "colab": {
          "base_uri": "https://localhost:8080/"
        },
        "id": "V5VQ0B71kdJs",
        "outputId": "168266b5-ec3e-4309-8f79-575fe148a0e5"
      },
      "source": [
        "dict1.items()"
      ],
      "execution_count": 33,
      "outputs": [
        {
          "output_type": "execute_result",
          "data": {
            "text/plain": [
              "dict_items([('one', 1), ('two', 2), ('three', 3)])"
            ]
          },
          "metadata": {},
          "execution_count": 33
        }
      ]
    },
    {
      "cell_type": "code",
      "metadata": {
        "colab": {
          "base_uri": "https://localhost:8080/"
        },
        "id": "X8YvdRUykgXp",
        "outputId": "6f2a2e78-d9d6-4c62-92e9-c4d87662c815"
      },
      "source": [
        "dict1.keys()"
      ],
      "execution_count": 34,
      "outputs": [
        {
          "output_type": "execute_result",
          "data": {
            "text/plain": [
              "dict_keys(['one', 'two', 'three'])"
            ]
          },
          "metadata": {},
          "execution_count": 34
        }
      ]
    },
    {
      "cell_type": "code",
      "metadata": {
        "colab": {
          "base_uri": "https://localhost:8080/"
        },
        "id": "hixgXBrrkj8R",
        "outputId": "9b111194-a1e1-48fd-fde7-170cd56fdbc9"
      },
      "source": [
        "dict1.values()"
      ],
      "execution_count": 35,
      "outputs": [
        {
          "output_type": "execute_result",
          "data": {
            "text/plain": [
              "dict_values([1, 2, 3])"
            ]
          },
          "metadata": {},
          "execution_count": 35
        }
      ]
    },
    {
      "cell_type": "code",
      "metadata": {
        "colab": {
          "base_uri": "https://localhost:8080/"
        },
        "id": "ms0xd-7oklgX",
        "outputId": "d0ed27f7-3894-482c-839e-f44bd0ad1a4a"
      },
      "source": [
        "val1 = dict1.pop('one')\n",
        "val1"
      ],
      "execution_count": 42,
      "outputs": [
        {
          "output_type": "execute_result",
          "data": {
            "text/plain": [
              "1"
            ]
          },
          "metadata": {},
          "execution_count": 42
        }
      ]
    },
    {
      "cell_type": "code",
      "metadata": {
        "id": "q2WCbCwnkthv"
      },
      "source": [
        "del dict1['two']"
      ],
      "execution_count": 43,
      "outputs": []
    },
    {
      "cell_type": "code",
      "metadata": {
        "colab": {
          "base_uri": "https://localhost:8080/"
        },
        "id": "Nr4-LaldlQzr",
        "outputId": "699b99d0-3c47-4fdb-c816-198a0575f986"
      },
      "source": [
        "dict1"
      ],
      "execution_count": 45,
      "outputs": [
        {
          "output_type": "execute_result",
          "data": {
            "text/plain": [
              "{'three': 3}"
            ]
          },
          "metadata": {},
          "execution_count": 45
        }
      ]
    },
    {
      "cell_type": "code",
      "metadata": {
        "id": "4tJBGdxklRkT"
      },
      "source": [
        "# Sets"
      ],
      "execution_count": 46,
      "outputs": []
    },
    {
      "cell_type": "code",
      "metadata": {
        "colab": {
          "base_uri": "https://localhost:8080/"
        },
        "id": "Gmm9gi4WmGs7",
        "outputId": "def17131-2d9f-41bf-cf84-1c3b212bd13c"
      },
      "source": [
        "set1 = set([2,3,4,4,3])\n",
        "set1"
      ],
      "execution_count": 50,
      "outputs": [
        {
          "output_type": "execute_result",
          "data": {
            "text/plain": [
              "{2, 3, 4}"
            ]
          },
          "metadata": {},
          "execution_count": 50
        }
      ]
    },
    {
      "cell_type": "code",
      "metadata": {
        "id": "1AAvhB3gmKl9"
      },
      "source": [
        "set1.add(5)"
      ],
      "execution_count": 51,
      "outputs": []
    },
    {
      "cell_type": "code",
      "metadata": {
        "colab": {
          "base_uri": "https://localhost:8080/"
        },
        "id": "KsMt1SPAmZ0n",
        "outputId": "d7382dbd-fce9-4b5d-c778-cfd931ebc422"
      },
      "source": [
        "set1"
      ],
      "execution_count": 52,
      "outputs": [
        {
          "output_type": "execute_result",
          "data": {
            "text/plain": [
              "{2, 3, 4, 5}"
            ]
          },
          "metadata": {},
          "execution_count": 52
        }
      ]
    },
    {
      "cell_type": "code",
      "metadata": {
        "colab": {
          "base_uri": "https://localhost:8080/"
        },
        "id": "l-yIEKQYmfaF",
        "outputId": "a8d1a236-ce3b-4ba7-8b2d-fdbd6f813410"
      },
      "source": [
        "set1.remove(5)\n",
        "set1"
      ],
      "execution_count": 53,
      "outputs": [
        {
          "output_type": "execute_result",
          "data": {
            "text/plain": [
              "{2, 3, 4}"
            ]
          },
          "metadata": {},
          "execution_count": 53
        }
      ]
    },
    {
      "cell_type": "code",
      "metadata": {
        "colab": {
          "base_uri": "https://localhost:8080/"
        },
        "id": "OY_5ilYKm2IR",
        "outputId": "dab22469-be04-422d-b1a6-56d74ec943bb"
      },
      "source": [
        "set2 = set([3,5,6,7,8,9,10])\n",
        "set2"
      ],
      "execution_count": 54,
      "outputs": [
        {
          "output_type": "execute_result",
          "data": {
            "text/plain": [
              "{3, 5, 6, 7, 8, 9, 10}"
            ]
          },
          "metadata": {},
          "execution_count": 54
        }
      ]
    },
    {
      "cell_type": "code",
      "metadata": {
        "colab": {
          "base_uri": "https://localhost:8080/"
        },
        "id": "ExZSMgykmkMQ",
        "outputId": "a87d5ce4-54bb-46be-c9f4-8c7d739ebdbf"
      },
      "source": [
        "set1.update(set2)\n",
        "set1"
      ],
      "execution_count": 55,
      "outputs": [
        {
          "output_type": "execute_result",
          "data": {
            "text/plain": [
              "{2, 3, 4, 5, 6, 7, 8, 9, 10}"
            ]
          },
          "metadata": {},
          "execution_count": 55
        }
      ]
    },
    {
      "cell_type": "code",
      "metadata": {
        "colab": {
          "base_uri": "https://localhost:8080/"
        },
        "id": "sh0JcQJ5m8vA",
        "outputId": "4307053e-7cf7-4c8f-e6ef-9e62fd32e2a6"
      },
      "source": [
        "set1.intersection(set2)"
      ],
      "execution_count": 56,
      "outputs": [
        {
          "output_type": "execute_result",
          "data": {
            "text/plain": [
              "{3, 5, 6, 7, 8, 9, 10}"
            ]
          },
          "metadata": {},
          "execution_count": 56
        }
      ]
    },
    {
      "cell_type": "code",
      "metadata": {
        "colab": {
          "base_uri": "https://localhost:8080/"
        },
        "id": "lCbl0SjbnCXg",
        "outputId": "d3b113d4-98ed-40e8-b71f-647b131da849"
      },
      "source": [
        "set1.difference(set2)"
      ],
      "execution_count": 57,
      "outputs": [
        {
          "output_type": "execute_result",
          "data": {
            "text/plain": [
              "{2, 4}"
            ]
          },
          "metadata": {},
          "execution_count": 57
        }
      ]
    },
    {
      "cell_type": "code",
      "metadata": {
        "id": "pGUXNfi7nH0H"
      },
      "source": [
        "# Time complexity- worst case runtime"
      ],
      "execution_count": 58,
      "outputs": []
    },
    {
      "cell_type": "code",
      "metadata": {
        "id": "gKi_fDNsvFHq"
      },
      "source": [
        ""
      ],
      "execution_count": null,
      "outputs": []
    },
    {
      "cell_type": "markdown",
      "metadata": {
        "id": "ekmJSQpIvP5F"
      },
      "source": [
        "![Untitled1.jpeg](data:image/jpeg;base64,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)"
      ]
    },
    {
      "cell_type": "code",
      "metadata": {
        "colab": {
          "base_uri": "https://localhost:8080/"
        },
        "id": "KrCJc_1bqkbX",
        "outputId": "d211cd1b-944f-49a4-b49d-a8cbb88ebf83"
      },
      "source": [
        "# O(1) -  constant time\n",
        "\n",
        "dict1['four']=4\n",
        "dict1"
      ],
      "execution_count": 75,
      "outputs": [
        {
          "output_type": "execute_result",
          "data": {
            "text/plain": [
              "{'four': 4, 'three': 3}"
            ]
          },
          "metadata": {},
          "execution_count": 75
        }
      ]
    },
    {
      "cell_type": "code",
      "metadata": {
        "colab": {
          "base_uri": "https://localhost:8080/"
        },
        "id": "a70ZJf0vp0XP",
        "outputId": "2aca7a32-2a58-4a9f-fc66-7c456af7ab1b"
      },
      "source": [
        "t1 = time.time()\n",
        "dict1['four']\n",
        "t2 = time.time()\n",
        "t2-t1"
      ],
      "execution_count": 81,
      "outputs": [
        {
          "output_type": "execute_result",
          "data": {
            "text/plain": [
              "4.124641418457031e-05"
            ]
          },
          "metadata": {},
          "execution_count": 81
        }
      ]
    },
    {
      "cell_type": "code",
      "metadata": {
        "colab": {
          "base_uri": "https://localhost:8080/"
        },
        "id": "5F9oaPPdp2WV",
        "outputId": "47aa3e89-1867-4660-e416-97d4e9e24c8e"
      },
      "source": [
        "t1 = time.time()\n",
        "dict1['three']\n",
        "t2 = time.time()\n",
        "t2-t1"
      ],
      "execution_count": 82,
      "outputs": [
        {
          "output_type": "execute_result",
          "data": {
            "text/plain": [
              "4.0531158447265625e-05"
            ]
          },
          "metadata": {},
          "execution_count": 82
        }
      ]
    },
    {
      "cell_type": "code",
      "metadata": {
        "colab": {
          "base_uri": "https://localhost:8080/"
        },
        "id": "VaDS5K8tq37n",
        "outputId": "805199f7-b331-42dd-93b0-47b38f33a09d"
      },
      "source": [
        "# O(n) -  Linear Time\n",
        "\n",
        "t1 = time.time()\n",
        "for i in list1:\n",
        "  print(i)\n",
        "  t2 = time.time()\n",
        "  print(t2-t1)"
      ],
      "execution_count": 84,
      "outputs": [
        {
          "output_type": "stream",
          "name": "stdout",
          "text": [
            "1\n",
            "0.0016710758209228516\n",
            "2\n",
            "0.002100229263305664\n",
            "4\n",
            "0.0021452903747558594\n",
            "6\n",
            "0.0022270679473876953\n",
            "100\n",
            "0.0022687911987304688\n"
          ]
        }
      ]
    },
    {
      "cell_type": "code",
      "metadata": {
        "id": "0a4HhINtsk1A"
      },
      "source": [
        "# O(log n)  # base is 2\n",
        "# ex. Binary Search"
      ],
      "execution_count": null,
      "outputs": []
    },
    {
      "cell_type": "code",
      "metadata": {
        "colab": {
          "base_uri": "https://localhost:8080/"
        },
        "id": "h25MzRCAsesp",
        "outputId": "aebbce60-e795-4685-a024-e548be063082"
      },
      "source": [
        "# O(n**2) -  2 nested for loops\n",
        "\n",
        "list1"
      ],
      "execution_count": 86,
      "outputs": [
        {
          "output_type": "execute_result",
          "data": {
            "text/plain": [
              "[1, 2, 4, 6, 100]"
            ]
          },
          "metadata": {},
          "execution_count": 86
        }
      ]
    },
    {
      "cell_type": "code",
      "metadata": {
        "colab": {
          "base_uri": "https://localhost:8080/"
        },
        "id": "t01VvqX-tG0i",
        "outputId": "b0cc0e09-baf6-41db-8952-b87d01db4d32"
      },
      "source": [
        "list2 = ['A','B','C']\n",
        "list2"
      ],
      "execution_count": 88,
      "outputs": [
        {
          "output_type": "execute_result",
          "data": {
            "text/plain": [
              "['A', 'B', 'C']"
            ]
          },
          "metadata": {},
          "execution_count": 88
        }
      ]
    },
    {
      "cell_type": "code",
      "metadata": {
        "colab": {
          "base_uri": "https://localhost:8080/"
        },
        "id": "zzQGAhvitJjy",
        "outputId": "2fc51f0a-bb19-4916-d074-2e02cbbd1725"
      },
      "source": [
        "for i in list1:\n",
        "  for j in list2:\n",
        "    print(i,j)"
      ],
      "execution_count": 89,
      "outputs": [
        {
          "output_type": "stream",
          "name": "stdout",
          "text": [
            "1 A\n",
            "1 B\n",
            "1 C\n",
            "2 A\n",
            "2 B\n",
            "2 C\n",
            "4 A\n",
            "4 B\n",
            "4 C\n",
            "6 A\n",
            "6 B\n",
            "6 C\n",
            "100 A\n",
            "100 B\n",
            "100 C\n"
          ]
        }
      ]
    },
    {
      "cell_type": "code",
      "metadata": {
        "id": "pYLSzUoFtYbg"
      },
      "source": [
        "# O(n logn)\n",
        "# O(2**n)\n",
        "# O(n!)"
      ],
      "execution_count": null,
      "outputs": []
    }
  ]
}